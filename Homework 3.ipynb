{
 "cells": [
  {
   "cell_type": "code",
   "execution_count": 1,
   "metadata": {},
   "outputs": [],
   "source": [
    "#Wyco, Shenna Marie P\n",
    "#CMP 464"
   ]
  },
  {
   "cell_type": "code",
   "execution_count": null,
   "metadata": {},
   "outputs": [],
   "source": [
    "#For movie (ID 260: Star Wars: A New Hope) and (ID 9645: Star Wars: The Last Jedi), find:\n",
    "\n",
    "#1. how many ratings were given to this movie\n",
    "#2. What is the highest and lowest rating\n",
    "#3. When was the first rating given?\n",
    "#4. When was the last rating given?\n",
    "#5. What is the average rating?\n",
    "#6. Plot the frequency distribution of the ratings"
   ]
  },
  {
   "cell_type": "code",
   "execution_count": 1,
   "metadata": {},
   "outputs": [],
   "source": [
    "import pandas as pd"
   ]
  },
  {
   "cell_type": "code",
   "execution_count": 2,
   "metadata": {},
   "outputs": [
    {
     "data": {
      "text/plain": [
       "('/Users/shen/Downloads/ml-latest-small.zip',\n",
       " <http.client.HTTPMessage at 0x112a3ac50>)"
      ]
     },
     "execution_count": 2,
     "metadata": {},
     "output_type": "execute_result"
    }
   ],
   "source": [
    "# Download ml-latest-small.zip from https://grouplens.org/datasets/movielens/\n",
    "import urllib.request\n",
    "url = \"http://files.grouplens.org/datasets/movielens/ml-latest-small.zip\"\n",
    "file_path = \"/Users/shen/Downloads/\"\n",
    "zip_file = \"ml-latest-small.zip\"\n",
    "urllib.request.urlretrieve(url, file_path + zip_file)"
   ]
  },
  {
   "cell_type": "code",
   "execution_count": 3,
   "metadata": {},
   "outputs": [
    {
     "name": "stdout",
     "output_type": "stream",
     "text": [
      "File Name                                             Modified             Size\n",
      "ml-latest-small/                               2018-09-26 15:50:12            0\n",
      "ml-latest-small/links.csv                      2018-09-26 15:50:10       197979\n",
      "ml-latest-small/tags.csv                       2018-09-26 15:49:40       118660\n",
      "ml-latest-small/ratings.csv                    2018-09-26 15:49:38      2483723\n",
      "ml-latest-small/README.txt                     2018-09-26 15:50:12         8342\n",
      "ml-latest-small/movies.csv                     2018-09-26 15:49:56       494431\n"
     ]
    }
   ],
   "source": [
    "# Decompress the zip file\n",
    "import zipfile\n",
    "f = zipfile.ZipFile(file_path + zip_file, \"r\")\n",
    "f.printdir()\n",
    "f.extractall(file_path)\n",
    "f.close()"
   ]
  },
  {
   "cell_type": "code",
   "execution_count": 131,
   "metadata": {},
   "outputs": [
    {
     "name": "stdout",
     "output_type": "stream",
     "text": [
      "\n",
      "Ratings given to movie ID 260: Star Wars: A New Hope is 5.0\n",
      "\n",
      "Ratings given to movie ID 9645: Star Wars: The Last Jedi 3.0\n"
     ]
    }
   ],
   "source": [
    "# 1. how many ratings were given to this movie\n",
    "\n",
    "import numpy as np\n",
    "userId = np.array(data[15, 3])\n",
    "print (\"\\nRatings given to movie ID 260: Star Wars: A New Hope is\", userId)\n",
    "\n",
    "userId = np.array(data[305, 3])\n",
    "print (\"\\nRatings given to movie ID 9645: Star Wars: The Last Jedi\", userId)"
   ]
  },
  {
   "cell_type": "code",
   "execution_count": 139,
   "metadata": {},
   "outputs": [
    {
     "name": "stdout",
     "output_type": "stream",
     "text": [
      "Highest Rating Given ['5.0'] \n",
      "\n"
     ]
    }
   ],
   "source": [
    "# 2. What is the highest rating\n",
    "\n",
    "import heapq\n",
    "arr_highest = np.array(data[:, 3])\n",
    "print('Highest Rating Given', heapq.nlargest(1, arr_highest), '\\n')"
   ]
  },
  {
   "cell_type": "code",
   "execution_count": 133,
   "metadata": {},
   "outputs": [
    {
     "name": "stdout",
     "output_type": "stream",
     "text": [
      "Lowest Rating Given ['0.5'] \n",
      "\n"
     ]
    }
   ],
   "source": [
    "# 2. What is the lowest rating\n",
    "\n",
    "import heapq\n",
    "arr_highest = np.array(data[:, 3])\n",
    "print('Lowest Rating Given', heapq.nsmallest(1, arr_highest), '\\n')\n"
   ]
  },
  {
   "cell_type": "code",
   "execution_count": 97,
   "metadata": {},
   "outputs": [
    {
     "name": "stdout",
     "output_type": "stream",
     "text": [
      "First Rating Given: ['1996']\n"
     ]
    }
   ],
   "source": [
    "# 4. When was the first rating given?\n",
    "\n",
    "# sort and argsort()\n",
    "arr = np.array(data[:, 5])\n",
    "\n",
    "#sort the ratings oldest to latest\n",
    "arr_sorted_indices = arr.argsort()\n",
    "first_rating = arr_sorted_indices[:1]\n",
    "oldest_rating = arr[first_rating]\n",
    "print(\"First Rating Given:\", oldest_rating) \n"
   ]
  },
  {
   "cell_type": "code",
   "execution_count": 98,
   "metadata": {},
   "outputs": [
    {
     "name": "stdout",
     "output_type": "stream",
     "text": [
      "Last Rating Given: ['2018']\n"
     ]
    }
   ],
   "source": [
    "# 4. When was the last rating given?\n",
    "\n",
    "# sort and argsort()\n",
    "arr = np.array(data[:, 5]) \n",
    "arr_sorted_indices = arr.argsort()\n",
    "last_rating = arr_sorted_indices[-1:]\n",
    "latest_rating = arr[last_rating]\n",
    "print(\"Last Rating Given:\", latest_rating) \n"
   ]
  },
  {
   "cell_type": "code",
   "execution_count": 99,
   "metadata": {},
   "outputs": [
    {
     "name": "stdout",
     "output_type": "stream",
     "text": [
      "Average rating: 3.501556983616962\n"
     ]
    }
   ],
   "source": [
    "# 6. What is the average rating?\n",
    "\n",
    "rating_data = np.array(data[:, 3]) # create a new numpy array with ratings\n",
    "rating_data = rating_data.astype(float)\n",
    "print(\"Average rating:\", np.mean(rating_data))"
   ]
  },
  {
   "cell_type": "code",
   "execution_count": 137,
   "metadata": {},
   "outputs": [
    {
     "name": "stdout",
     "output_type": "stream",
     "text": [
      "4.0    26818\n",
      "3.0    20047\n",
      "5.0    13211\n",
      "3.5    13136\n",
      "4.5     8551\n",
      "2.0     7551\n",
      "2.5     5550\n",
      "1.0     2811\n",
      "1.5     1791\n",
      "0.5     1370\n",
      "Name: rating, dtype: int64\n"
     ]
    },
    {
     "data": {
      "text/plain": [
       "[<matplotlib.lines.Line2D at 0x116682828>]"
      ]
     },
     "execution_count": 137,
     "metadata": {},
     "output_type": "execute_result"
    },
    {
     "data": {
      "image/png": "[encoded data removed]",
      "text/plain": [
       "<Figure size 432x288 with 1 Axes>"
      ]
     },
     "metadata": {
      "needs_background": "light"
     },
     "output_type": "display_data"
    }
   ],
   "source": [
    "#6. Plot the frequency distribution of the ratings\n",
    "rating_frequencies = ratings_df['rating'].value_counts()\n",
    "print(rating_frequencies)\n",
    "\n",
    "np.unique(rating_frequencies)\n",
    "import matplotlib.pyplot as plt\n",
    "%matplotlib inline\n",
    "plt.plot(rating_frequencies.index,\n",
    "        rating_frequencies.values,\n",
    "        'b.')"
   ]
  }
 ],
 "metadata": {
  "kernelspec": {
   "display_name": "Python 3",
   "language": "python",
   "name": "python3"
  },
  "language_info": {
   "codemirror_mode": {
    "name": "ipython",
    "version": 3
   },
   "file_extension": ".py",
   "mimetype": "text/x-python",
   "name": "python",
   "nbconvert_exporter": "python",
   "pygments_lexer": "ipython3",
   "version": "3.7.3"
  }
 },
 "nbformat": 4,
 "nbformat_minor": 2
}
